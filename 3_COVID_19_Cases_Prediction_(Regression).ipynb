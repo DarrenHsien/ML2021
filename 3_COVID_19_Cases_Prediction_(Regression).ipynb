{
  "nbformat": 4,
  "nbformat_minor": 0,
  "metadata": {
    "colab": {
      "name": "3.COVID-19 Cases Prediction (Regression).ipynb",
      "provenance": [],
      "collapsed_sections": [],
      "include_colab_link": true
    },
    "kernelspec": {
      "name": "python3",
      "display_name": "Python 3"
    },
    "accelerator": "GPU"
  },
  "cells": [
    {
      "cell_type": "markdown",
      "metadata": {
        "id": "view-in-github",
        "colab_type": "text"
      },
      "source": [
        "<a href=\"https://colab.research.google.com/github/DarrenHsien/ML2021/blob/main/3_COVID_19_Cases_Prediction_(Regression).ipynb\" target=\"_parent\"><img src=\"https://colab.research.google.com/assets/colab-badge.svg\" alt=\"Open In Colab\"/></a>"
      ]
    },
    {
      "cell_type": "markdown",
      "metadata": {
        "id": "mz0_QVkxCrX3"
      },
      "source": [
        "# **1: COVID-19 Cases Prediction (Regression)**"
      ]
    },
    {
      "cell_type": "markdown",
      "source": [
        "數據說明\n",
        "\n",
        "預測目標 : 預測美國Covid-19透過前一天的數據預測隔一天的陽性比例(tested-positive)\n",
        "\n",
        "數據來源 : 針對各州進行樣本抽樣填寫問券\n",
        "\n",
        "\n",
        "- 週的One-hot\n",
        "- cli, ili, hh_cmntycli, nohh_cmnty_cli : 針對症狀類數據\n",
        "- 針對行為類\n",
        "- 心理健康問題相關\n",
        "- tested_positive : 測試為陽性比例(預測項)\n",
        "\n",
        "橫向編列:\n",
        "(train)\n",
        "- 欄位前40筆 : 週one-hot\n",
        "- 18筆 day1\n",
        "- 18筆 day2\n",
        "- 18筆 day3\n",
        "(test)\n",
        "- 欄位前40筆 : 週one-hot\n",
        "- 18筆 day1\n",
        "- 18筆 day2\n",
        "- 17筆 day3(少tested-positive)\n"
      ],
      "metadata": {
        "id": "Ah8i-Lk_c9Tp"
      }
    },
    {
      "cell_type": "markdown",
      "metadata": {
        "id": "Jx3x1nDkG-Uy"
      },
      "source": [
        "# **Download Data**\n",
        "\n",
        "\n",
        "If the Google drive links are dead, you can download data from [kaggle](https://www.kaggle.com/c/ml2021spring-hw1/data), and upload data manually to the workspace."
      ]
    },
    {
      "cell_type": "code",
      "metadata": {
        "colab": {
          "base_uri": "https://localhost:8080/"
        },
        "id": "tMj55YDKG6ch",
        "outputId": "dba1d93f-0e5e-46f9-c90e-9ee82dfb6ca3"
      },
      "source": [
        "tr_path = 'covid.train.csv'  # path to training data\n",
        "tt_path = 'covid.test.csv'   # path to testing data\n",
        "\n",
        "# 擺放至自己google drive=>取得連結後複製連接Id\n",
        "!gdown --id '16RU3tz4kie3hMWrFAo0AyG8T54Pw_xs0' --output covid.train.csv\n",
        "!gdown --id '1rx_QDtGd_M79K4n3gbYG9sgFs8LHFRIB' --output covid.test.csv"
      ],
      "execution_count": 167,
      "outputs": [
        {
          "output_type": "stream",
          "name": "stdout",
          "text": [
            "Downloading...\n",
            "From: https://drive.google.com/uc?id=16RU3tz4kie3hMWrFAo0AyG8T54Pw_xs0\n",
            "To: /content/covid.train.csv\n",
            "100% 2.00M/2.00M [00:00<00:00, 147MB/s]\n",
            "Downloading...\n",
            "From: https://drive.google.com/uc?id=1rx_QDtGd_M79K4n3gbYG9sgFs8LHFRIB\n",
            "To: /content/covid.test.csv\n",
            "100% 651k/651k [00:00<00:00, 117MB/s]\n"
          ]
        }
      ]
    },
    {
      "cell_type": "markdown",
      "metadata": {
        "id": "wS_4-77xHk44"
      },
      "source": [
        "# **Import Some Packages**"
      ]
    },
    {
      "cell_type": "code",
      "metadata": {
        "id": "k-onQd4JNA5H"
      },
      "source": [
        "# PyTorch\n",
        "import torch\n",
        "import torch.nn as nn\n",
        "from torch.utils.data import Dataset, DataLoader\n",
        "\n",
        "# For data preprocess\n",
        "import numpy as np\n",
        "import csv\n",
        "import os\n",
        "\n",
        "# For plotting\n",
        "import matplotlib.pyplot as plt\n",
        "from matplotlib.pyplot import figure\n",
        "\n",
        "myseed = 42069  # set a random seed for reproducibility\n",
        "torch.backends.cudnn.deterministic = True\n",
        "torch.backends.cudnn.benchmark = False\n",
        "np.random.seed(myseed)\n",
        "torch.manual_seed(myseed)\n",
        "if torch.cuda.is_available():\n",
        "    torch.cuda.manual_seed_all(myseed)"
      ],
      "execution_count": 168,
      "outputs": []
    },
    {
      "cell_type": "markdown",
      "metadata": {
        "id": "BtE3b6JEH7rw"
      },
      "source": [
        "# **Some Utilities**\n",
        "\n",
        "You do not need to modify this part."
      ]
    },
    {
      "cell_type": "code",
      "metadata": {
        "id": "FWMT3uf1NGQp"
      },
      "source": [
        "def get_device():\n",
        "    ''' Get device (if GPU is available, use GPU) '''\n",
        "    return 'cuda' if torch.cuda.is_available() else 'cpu'\n",
        "\n",
        "def plot_learning_curve(loss_record, title=''):\n",
        "    ''' Plot learning curve of your DNN (train & dev loss) '''\n",
        "    total_steps = len(loss_record['train'])\n",
        "    x_1 = range(total_steps)\n",
        "    x_2 = x_1[::len(loss_record['train']) // len(loss_record['dev'])]\n",
        "    figure(figsize=(6, 4))\n",
        "    plt.plot(x_1, loss_record['train'], c='tab:red', label='train')\n",
        "    plt.plot(x_2, loss_record['dev'], c='tab:cyan', label='dev')\n",
        "    plt.ylim(0.0, 5.)\n",
        "    plt.xlabel('Training steps')\n",
        "    plt.ylabel('MSE loss')\n",
        "    plt.title('Learning curve of {}'.format(title))\n",
        "    plt.legend()\n",
        "    plt.show()\n",
        "\n",
        "\n",
        "def plot_pred(dv_set, model, device, lim=35., preds=None, targets=None):\n",
        "    ''' Plot prediction of your DNN '''\n",
        "    if preds is None or targets is None:\n",
        "        model.eval()\n",
        "        preds, targets = [], []\n",
        "        for x, y in dv_set:\n",
        "            x, y = x.to(device), y.to(device)\n",
        "            with torch.no_grad():\n",
        "                pred = model(x)\n",
        "                preds.append(pred.detach().cpu())\n",
        "                targets.append(y.detach().cpu())\n",
        "        preds = torch.cat(preds, dim=0).numpy()\n",
        "        targets = torch.cat(targets, dim=0).numpy()\n",
        "\n",
        "    figure(figsize=(5, 5))\n",
        "    plt.scatter(targets, preds, c='r', alpha=0.5)\n",
        "    plt.plot([-0.2, lim], [-0.2, lim], c='b')\n",
        "    plt.xlim(-0.2, lim)\n",
        "    plt.ylim(-0.2, lim)\n",
        "    plt.xlabel('ground truth value')\n",
        "    plt.ylabel('predicted value')\n",
        "    plt.title('Ground Truth v.s. Prediction')\n",
        "    plt.show()"
      ],
      "execution_count": 169,
      "outputs": []
    },
    {
      "cell_type": "markdown",
      "metadata": {
        "id": "39U_XFX6KOoj"
      },
      "source": [
        "# **Preprocess**\n",
        "\n",
        "We have three kinds of datasets:\n",
        "* `train`: for training\n",
        "* `dev`: for validation\n",
        "* `test`: for testing (w/o target value)"
      ]
    },
    {
      "cell_type": "markdown",
      "metadata": {
        "id": "TQ-MdwpLL7Dt"
      },
      "source": [
        "## **Dataset**\n",
        "\n",
        "The `COVID19Dataset` below does:\n",
        "* read `.csv` files\n",
        "* extract features\n",
        "* split `covid.train.csv` into train/dev sets\n",
        "* normalize features\n",
        "\n",
        "Finishing `TODO` below might make you pass medium baseline."
      ]
    },
    {
      "cell_type": "code",
      "metadata": {
        "id": "0zlpIp9ANJRU"
      },
      "source": [
        "class COVID19Dataset(Dataset):\n",
        "    ''' Dataset for loading and preprocessing the COVID19 dataset '''\n",
        "    def __init__(self,\n",
        "                 path,\n",
        "                 mode='train',\n",
        "                 target_only=False):\n",
        "        self.mode = mode\n",
        "\n",
        "        # Read data into numpy arrays\n",
        "        with open(path, 'r') as fp:\n",
        "            data = list(csv.reader(fp))\n",
        "            # 排除id序號欄以及FEATURE描述列\n",
        "            data = np.array(data[1:])[:, 1:].astype(float)\n",
        "            print(\"sample數量 : \", data.shape[0], \"feature數量(包含y除了test有少1) : \", data.shape[1])\n",
        "        if not target_only:\n",
        "            feats = list(range(93))\n",
        "        else:\n",
        "            # TODO: Using 40 states & 2 tested_positive features (indices = 57 & 75)\n",
        "            pass\n",
        "\n",
        "        if mode == 'test':\n",
        "            # Testing data\n",
        "            # data: 893 x 93 (40 states + day 1 (18) + day 2 (18) + day 3 (17))\n",
        "            data = data[:, feats]\n",
        "            self.data = torch.FloatTensor(data)\n",
        "        else:\n",
        "            # Training data (train/dev sets)\n",
        "            # data: 2700 x 94 (40 states + day 1 (18) + day 2 (18) + day 3 (18))\n",
        "            target = data[:, -1]\n",
        "            data = data[:, feats]\n",
        "            \n",
        "            # Splitting training data into train & dev sets(提取方法是每個第10列轉給DEV)\n",
        "            if mode == 'train':\n",
        "                indices = [i for i in range(len(data)) if i % 10 != 0]\n",
        "                # print(indices)\n",
        "            elif mode == 'dev':\n",
        "                indices = [i for i in range(len(data)) if i % 10 == 0]\n",
        "                # print(indices)\n",
        "            \n",
        "            # Convert data into PyTorch tensors\n",
        "            self.data = torch.FloatTensor(data[indices])\n",
        "            self.target = torch.FloatTensor(target[indices])\n",
        "            print(\"data shape : \", self.data.shape)\n",
        "            print(\"target shape : \", self.target.shape)\n",
        "\n",
        "        # Normalize features (you may remove this part to see what will happen)\n",
        "        self.data[:, 40:] = \\\n",
        "            (self.data[:, 40:] - self.data[:, 40:].mean(dim=0, keepdim=True)) \\\n",
        "            / self.data[:, 40:].std(dim=0, keepdim=True)\n",
        "\n",
        "        self.dim = self.data.shape[1]\n",
        "\n",
        "        print('Finished reading the {} set of COVID19 Dataset ({} samples found, each dim = {})'\n",
        "              .format(mode, len(self.data), self.dim))\n",
        "\n",
        "    def __getitem__(self, index):\n",
        "        # Returns one sample at a time\n",
        "        if self.mode in ['train', 'dev']:\n",
        "            # For training\n",
        "            return self.data[index], self.target[index]\n",
        "        else:\n",
        "            # For testing (no target)\n",
        "            return self.data[index]\n",
        "\n",
        "    def __len__(self):\n",
        "        # Returns the size of the dataset\n",
        "        return len(self.data)"
      ],
      "execution_count": 170,
      "outputs": []
    },
    {
      "cell_type": "markdown",
      "metadata": {
        "id": "AlhTlkE7MDo3"
      },
      "source": [
        "## **DataLoader**\n",
        "\n",
        "A `DataLoader` loads data from a given `Dataset` into batches.\n"
      ]
    },
    {
      "cell_type": "code",
      "metadata": {
        "id": "hlhLk5t6MBX3"
      },
      "source": [
        "def prep_dataloader(path, mode, batch_size, n_jobs=0, target_only=False):\n",
        "    ''' Generates a dataset, then is put into a dataloader. '''\n",
        "    dataset = COVID19Dataset(path, mode=mode, target_only=target_only)  # Construct dataset\n",
        "    dataloader = DataLoader(\n",
        "        dataset, batch_size,\n",
        "        shuffle=(mode == 'train'), drop_last=False,\n",
        "        num_workers=n_jobs, pin_memory=True)                            # Construct dataloader\n",
        "    return dataloader"
      ],
      "execution_count": 171,
      "outputs": []
    },
    {
      "cell_type": "markdown",
      "metadata": {
        "id": "SGuycwR0MeQB"
      },
      "source": [
        "# **Deep Neural Network**\n",
        "\n",
        "`NeuralNet` is an `nn.Module` designed for regression.\n",
        "The DNN consists of 2 fully-connected layers with ReLU activation.\n",
        "This module also included a function `cal_loss` for calculating loss.\n"
      ]
    },
    {
      "cell_type": "code",
      "metadata": {
        "id": "49-uXYovOAI0"
      },
      "source": [
        "class NeuralNet(nn.Module):\n",
        "    ''' A simple fully-connected deep neural network '''\n",
        "    def __init__(self, input_dim):\n",
        "        super(NeuralNet, self).__init__()\n",
        "\n",
        "        # Define your neural network here\n",
        "        # TODO: How to modify this model to achieve better performance?\n",
        "        self.net = nn.Sequential(\n",
        "            nn.Linear(input_dim, 100),\n",
        "            nn.ReLU(),\n",
        "            nn.Linear(100, 1),\n",
        "        )\n",
        "\n",
        "        # Mean squared error loss\n",
        "        self.criterion = nn.MSELoss(reduction='mean')\n",
        "\n",
        "    def forward(self, x):\n",
        "        ''' Given input of size (batch_size x input_dim), compute output of the network '''\n",
        "        return self.net(x).squeeze(1)\n",
        "\n",
        "    def cal_loss(self, pred, target):\n",
        "        ''' Calculate loss '''\n",
        "        # TODO: you may implement L1/L2 regularization here\n",
        "\n",
        "        # 神人指點區\n",
        "        # 使用L2正則項 : https://walkonnet.com/archives/20595\n",
        "        # 自定義作法(也可以直接於optimizer weight_decay操作)\n",
        "        regularization_loss = 0\n",
        "        for param in model.parameters():\n",
        "            # regularization_loss += torch.sum(abs(param))\n",
        "            regularization_loss += torch.sum(param ** 2)\n",
        "        return self.criterion(pred, target)# + 0.00075 * regularization_loss\n"
      ],
      "execution_count": 172,
      "outputs": []
    },
    {
      "cell_type": "markdown",
      "metadata": {
        "id": "DvFWVjZ5Nvga"
      },
      "source": [
        "# **Train/Dev/Test**"
      ]
    },
    {
      "cell_type": "markdown",
      "metadata": {
        "id": "MAM8QecJOyqn"
      },
      "source": [
        "## **Training**"
      ]
    },
    {
      "cell_type": "code",
      "metadata": {
        "id": "lOqcmYzMO7jB"
      },
      "source": [
        "def train(tr_set, dv_set, model, config, device):\n",
        "    ''' DNN training '''\n",
        "\n",
        "    n_epochs = config['n_epochs']  # Maximum number of epochs\n",
        "\n",
        "    # Setup optimizer\n",
        "    optimizer = getattr(torch.optim, config['optimizer'])(\n",
        "        model.parameters(), **config['optim_hparas'])\n",
        "\n",
        "    min_mse = 1000.\n",
        "    loss_record = {'train': [], 'dev': []}      # for recording training loss\n",
        "    early_stop_cnt = 0\n",
        "    epoch = 0\n",
        "    while epoch < n_epochs:\n",
        "        model.train()                           # set model to training mode\n",
        "        for x, y in tr_set:                     # iterate through the dataloader\n",
        "            optimizer.zero_grad()               # set gradient to zero\n",
        "            x, y = x.to(device), y.to(device)   # move data to device (cpu/cuda)\n",
        "            pred = model(x)                     # forward pass (compute output)\n",
        "            mse_loss = model.cal_loss(pred, y)  # compute loss\n",
        "            mse_loss.backward()                 # compute gradient (backpropagation)\n",
        "            optimizer.step()                    # update model with optimizer\n",
        "            loss_record['train'].append(mse_loss.detach().cpu().item())\n",
        "\n",
        "        # After each epoch, test your model on the validation (development) set.\n",
        "        dev_mse = dev(dv_set, model, device)\n",
        "        if dev_mse < min_mse:\n",
        "            # Save model if your model improved\n",
        "            min_mse = dev_mse\n",
        "            print('Saving model (epoch = {:4d}, loss = {:.4f})'\n",
        "                .format(epoch + 1, min_mse))\n",
        "            torch.save(model.state_dict(), config['save_path'])  # Save model to specified path\n",
        "            early_stop_cnt = 0\n",
        "        else:\n",
        "            early_stop_cnt += 1\n",
        "\n",
        "        epoch += 1\n",
        "        loss_record['dev'].append(dev_mse)\n",
        "        if early_stop_cnt > config['early_stop']:\n",
        "            # Stop training if your model stops improving for \"config['early_stop']\" epochs.\n",
        "            break\n",
        "\n",
        "    print('Finished training after {} epochs'.format(epoch))\n",
        "    return min_mse, loss_record"
      ],
      "execution_count": 173,
      "outputs": []
    },
    {
      "cell_type": "markdown",
      "metadata": {
        "id": "0hSd4Bn3O2PL"
      },
      "source": [
        "## **Validation**"
      ]
    },
    {
      "cell_type": "code",
      "metadata": {
        "id": "yrxrD3YsN3U2"
      },
      "source": [
        "def dev(dv_set, model, device):\n",
        "    model.eval()                                # set model to evalutation mode\n",
        "    total_loss = 0\n",
        "    for x, y in dv_set:                         # iterate through the dataloader\n",
        "        x, y = x.to(device), y.to(device)       # move data to device (cpu/cuda)\n",
        "        with torch.no_grad():                   # disable gradient calculation\n",
        "            pred = model(x)                     # forward pass (compute output)\n",
        "            mse_loss = model.cal_loss(pred, y)  # compute loss\n",
        "        total_loss += mse_loss.detach().cpu().item() * len(x)  # accumulate loss\n",
        "    total_loss = total_loss / len(dv_set.dataset)              # compute averaged loss\n",
        "\n",
        "    return total_loss"
      ],
      "execution_count": 174,
      "outputs": []
    },
    {
      "cell_type": "markdown",
      "metadata": {
        "id": "g0pdrhQAO41L"
      },
      "source": [
        "## **Testing**"
      ]
    },
    {
      "cell_type": "code",
      "metadata": {
        "id": "aSBMRFlYN5tB"
      },
      "source": [
        "def test(tt_set, model, device):\n",
        "    model.eval()                                # set model to evalutation mode\n",
        "    preds = []\n",
        "    for x in tt_set:                            # iterate through the dataloader\n",
        "        x = x.to(device)                        # move data to device (cpu/cuda)\n",
        "        with torch.no_grad():                   # disable gradient calculation\n",
        "            pred = model(x)                     # forward pass (compute output)\n",
        "            preds.append(pred.detach().cpu())   # collect prediction\n",
        "    preds = torch.cat(preds, dim=0).numpy()     # concatenate all predictions and convert to a numpy array\n",
        "    return preds"
      ],
      "execution_count": 175,
      "outputs": []
    },
    {
      "cell_type": "markdown",
      "metadata": {
        "id": "SvckkF5dvf0j"
      },
      "source": [
        "# **Setup Hyper-parameters**\n",
        "\n",
        "`config` contains hyper-parameters for training and the path to save your model."
      ]
    },
    {
      "cell_type": "code",
      "metadata": {
        "id": "NPXpdumwPjE7"
      },
      "source": [
        "device = get_device()                 # get the current available device ('cpu' or 'cuda')\n",
        "os.makedirs('models', exist_ok=True)  # The trained model will be saved to ./models/\n",
        "target_only = False                   # TODO: Using 40 states & 2 tested_positive features\n",
        "\n",
        "# TODO: How to tune these hyper-parameters to improve your model's performance?\n",
        "config = {\n",
        "    'n_epochs': 3000,                # maximum number of epochs\n",
        "    'batch_size': 270,               # mini-batch size for dataloader\n",
        "    'optimizer': 'SGD',              # optimization algorithm (optimizer in torch.optim)\n",
        "    'optim_hparas': {                # hyper-parameters for the optimizer (depends on which optimizer you are using)\n",
        "        'lr': 0.001,                 # learning rate of SGD\n",
        "        'momentum': 0.9,              # momentum for SGD\n",
        "        'weight_decay':0.00075\n",
        "    },\n",
        "    'early_stop': 200,               # early stopping epochs (the number epochs since your model's last improvement)\n",
        "    'save_path': 'models/model.pth'  # your model will be saved here\n",
        "}"
      ],
      "execution_count": 176,
      "outputs": []
    },
    {
      "cell_type": "markdown",
      "metadata": {
        "id": "6j1eOV3TOH-j"
      },
      "source": [
        "# **Load data and model**"
      ]
    },
    {
      "cell_type": "code",
      "metadata": {
        "colab": {
          "base_uri": "https://localhost:8080/"
        },
        "id": "eNrYBMmePLKm",
        "outputId": "6ca57a92-f698-44e2-a699-99168aa1f00a"
      },
      "source": [
        "tr_set = prep_dataloader(tr_path, 'train', config['batch_size'], target_only=target_only)\n",
        "dv_set = prep_dataloader(tr_path, 'dev', config['batch_size'], target_only=target_only)\n",
        "tt_set = prep_dataloader(tt_path, 'test', config['batch_size'], target_only=target_only)"
      ],
      "execution_count": 177,
      "outputs": [
        {
          "output_type": "stream",
          "name": "stdout",
          "text": [
            "sample數量 :  2700 feature數量(包含y除了test有少1) :  94\n",
            "data shape :  torch.Size([2430, 93])\n",
            "target shape :  torch.Size([2430])\n",
            "Finished reading the train set of COVID19 Dataset (2430 samples found, each dim = 93)\n",
            "sample數量 :  2700 feature數量(包含y除了test有少1) :  94\n",
            "data shape :  torch.Size([270, 93])\n",
            "target shape :  torch.Size([270])\n",
            "Finished reading the dev set of COVID19 Dataset (270 samples found, each dim = 93)\n",
            "sample數量 :  893 feature數量(包含y除了test有少1) :  93\n",
            "Finished reading the test set of COVID19 Dataset (893 samples found, each dim = 93)\n"
          ]
        }
      ]
    },
    {
      "cell_type": "code",
      "metadata": {
        "id": "FHylSirLP9oh"
      },
      "source": [
        "model = NeuralNet(tr_set.dataset.dim).to(device)  # Construct model and move to device"
      ],
      "execution_count": 178,
      "outputs": []
    },
    {
      "cell_type": "markdown",
      "metadata": {
        "id": "sX2B_zgSOPTJ"
      },
      "source": [
        "# **Start Training!**"
      ]
    },
    {
      "cell_type": "code",
      "metadata": {
        "colab": {
          "base_uri": "https://localhost:8080/"
        },
        "id": "GrEbUxazQAAZ",
        "outputId": "aeec3e7c-1d73-40a1-cb36-56cd5186bbe5"
      },
      "source": [
        "model_loss, model_loss_record = train(tr_set, dv_set, model, config, device)"
      ],
      "execution_count": 179,
      "outputs": [
        {
          "output_type": "stream",
          "name": "stdout",
          "text": [
            "Saving model (epoch =    1, loss = 54.7831)\n",
            "Saving model (epoch =    2, loss = 52.2637)\n",
            "Saving model (epoch =    3, loss = 31.2954)\n",
            "Saving model (epoch =    4, loss = 13.6346)\n",
            "Saving model (epoch =    5, loss = 7.5538)\n",
            "Saving model (epoch =    6, loss = 5.7252)\n",
            "Saving model (epoch =    7, loss = 4.9681)\n",
            "Saving model (epoch =    8, loss = 4.1146)\n",
            "Saving model (epoch =    9, loss = 3.6656)\n",
            "Saving model (epoch =   10, loss = 3.3094)\n",
            "Saving model (epoch =   11, loss = 3.0699)\n",
            "Saving model (epoch =   12, loss = 2.8259)\n",
            "Saving model (epoch =   13, loss = 2.6276)\n",
            "Saving model (epoch =   14, loss = 2.4709)\n",
            "Saving model (epoch =   15, loss = 2.3415)\n",
            "Saving model (epoch =   16, loss = 2.2019)\n",
            "Saving model (epoch =   17, loss = 2.1106)\n",
            "Saving model (epoch =   18, loss = 1.9921)\n",
            "Saving model (epoch =   19, loss = 1.9323)\n",
            "Saving model (epoch =   20, loss = 1.8160)\n",
            "Saving model (epoch =   21, loss = 1.7575)\n",
            "Saving model (epoch =   22, loss = 1.6814)\n",
            "Saving model (epoch =   23, loss = 1.6236)\n",
            "Saving model (epoch =   24, loss = 1.5698)\n",
            "Saving model (epoch =   25, loss = 1.5292)\n",
            "Saving model (epoch =   26, loss = 1.4753)\n",
            "Saving model (epoch =   27, loss = 1.4218)\n",
            "Saving model (epoch =   28, loss = 1.4169)\n",
            "Saving model (epoch =   29, loss = 1.3518)\n",
            "Saving model (epoch =   30, loss = 1.3277)\n",
            "Saving model (epoch =   31, loss = 1.2962)\n",
            "Saving model (epoch =   32, loss = 1.2804)\n",
            "Saving model (epoch =   33, loss = 1.2598)\n",
            "Saving model (epoch =   34, loss = 1.2255)\n",
            "Saving model (epoch =   36, loss = 1.2042)\n",
            "Saving model (epoch =   37, loss = 1.1806)\n",
            "Saving model (epoch =   38, loss = 1.1580)\n",
            "Saving model (epoch =   39, loss = 1.1484)\n",
            "Saving model (epoch =   40, loss = 1.1479)\n",
            "Saving model (epoch =   41, loss = 1.1341)\n",
            "Saving model (epoch =   42, loss = 1.1099)\n",
            "Saving model (epoch =   45, loss = 1.0819)\n",
            "Saving model (epoch =   47, loss = 1.0795)\n",
            "Saving model (epoch =   48, loss = 1.0733)\n",
            "Saving model (epoch =   50, loss = 1.0621)\n",
            "Saving model (epoch =   53, loss = 1.0444)\n",
            "Saving model (epoch =   54, loss = 1.0369)\n",
            "Saving model (epoch =   55, loss = 1.0350)\n",
            "Saving model (epoch =   59, loss = 1.0135)\n",
            "Saving model (epoch =   61, loss = 1.0041)\n",
            "Saving model (epoch =   63, loss = 1.0001)\n",
            "Saving model (epoch =   65, loss = 0.9872)\n",
            "Saving model (epoch =   66, loss = 0.9777)\n",
            "Saving model (epoch =   70, loss = 0.9692)\n",
            "Saving model (epoch =   71, loss = 0.9587)\n",
            "Saving model (epoch =   75, loss = 0.9391)\n",
            "Saving model (epoch =   79, loss = 0.9383)\n",
            "Saving model (epoch =   80, loss = 0.9233)\n",
            "Saving model (epoch =   83, loss = 0.9193)\n",
            "Saving model (epoch =   89, loss = 0.9152)\n",
            "Saving model (epoch =   91, loss = 0.9102)\n",
            "Saving model (epoch =   92, loss = 0.8998)\n",
            "Saving model (epoch =   95, loss = 0.8896)\n",
            "Saving model (epoch =   97, loss = 0.8852)\n",
            "Saving model (epoch =  106, loss = 0.8734)\n",
            "Saving model (epoch =  111, loss = 0.8733)\n",
            "Saving model (epoch =  118, loss = 0.8630)\n",
            "Saving model (epoch =  122, loss = 0.8569)\n",
            "Saving model (epoch =  125, loss = 0.8557)\n",
            "Saving model (epoch =  133, loss = 0.8555)\n",
            "Saving model (epoch =  136, loss = 0.8465)\n",
            "Saving model (epoch =  142, loss = 0.8356)\n",
            "Saving model (epoch =  147, loss = 0.8271)\n",
            "Saving model (epoch =  156, loss = 0.8237)\n",
            "Saving model (epoch =  175, loss = 0.8214)\n",
            "Saving model (epoch =  179, loss = 0.8148)\n",
            "Saving model (epoch =  193, loss = 0.8142)\n",
            "Saving model (epoch =  195, loss = 0.8129)\n",
            "Saving model (epoch =  204, loss = 0.8117)\n",
            "Saving model (epoch =  214, loss = 0.8071)\n",
            "Saving model (epoch =  216, loss = 0.7969)\n",
            "Saving model (epoch =  229, loss = 0.7960)\n",
            "Saving model (epoch =  253, loss = 0.7913)\n",
            "Saving model (epoch =  263, loss = 0.7903)\n",
            "Saving model (epoch =  293, loss = 0.7819)\n",
            "Saving model (epoch =  342, loss = 0.7788)\n",
            "Saving model (epoch =  346, loss = 0.7766)\n",
            "Saving model (epoch =  349, loss = 0.7763)\n",
            "Saving model (epoch =  363, loss = 0.7727)\n",
            "Saving model (epoch =  457, loss = 0.7646)\n",
            "Saving model (epoch =  619, loss = 0.7594)\n",
            "Saving model (epoch =  633, loss = 0.7573)\n",
            "Saving model (epoch =  664, loss = 0.7551)\n",
            "Saving model (epoch =  673, loss = 0.7524)\n",
            "Saving model (epoch =  747, loss = 0.7509)\n",
            "Saving model (epoch =  753, loss = 0.7495)\n",
            "Saving model (epoch =  831, loss = 0.7475)\n",
            "Saving model (epoch =  955, loss = 0.7432)\n",
            "Saving model (epoch =  969, loss = 0.7413)\n",
            "Saving model (epoch =  989, loss = 0.7383)\n",
            "Saving model (epoch = 1128, loss = 0.7368)\n",
            "Saving model (epoch = 1133, loss = 0.7343)\n",
            "Saving model (epoch = 1137, loss = 0.7309)\n",
            "Saving model (epoch = 1336, loss = 0.7307)\n",
            "Saving model (epoch = 1369, loss = 0.7303)\n",
            "Saving model (epoch = 1410, loss = 0.7299)\n",
            "Saving model (epoch = 1412, loss = 0.7298)\n",
            "Saving model (epoch = 1424, loss = 0.7273)\n",
            "Saving model (epoch = 1502, loss = 0.7268)\n",
            "Saving model (epoch = 1534, loss = 0.7243)\n",
            "Saving model (epoch = 1615, loss = 0.7241)\n",
            "Saving model (epoch = 1664, loss = 0.7240)\n",
            "Saving model (epoch = 1694, loss = 0.7217)\n",
            "Saving model (epoch = 1735, loss = 0.7212)\n",
            "Saving model (epoch = 1744, loss = 0.7164)\n",
            "Saving model (epoch = 1849, loss = 0.7147)\n",
            "Finished training after 2050 epochs\n"
          ]
        }
      ]
    },
    {
      "cell_type": "code",
      "metadata": {
        "colab": {
          "base_uri": "https://localhost:8080/",
          "height": 295
        },
        "id": "hsNO9nnXQBvP",
        "outputId": "3aa86b95-e366-4744-8daf-437cd5b051ec"
      },
      "source": [
        "plot_learning_curve(model_loss_record, title='deep model')"
      ],
      "execution_count": 180,
      "outputs": [
        {
          "output_type": "display_data",
          "data": {
            "image/png": "[encoded data removed]",
            "text/plain": [
              "<Figure size 432x288 with 1 Axes>"
            ]
          },
          "metadata": {
            "needs_background": "light"
          }
        }
      ]
    },
    {
      "cell_type": "code",
      "metadata": {
        "colab": {
          "base_uri": "https://localhost:8080/",
          "height": 350
        },
        "id": "3iZTVn5WQFpX",
        "outputId": "20315905-3f48-4dfb-e015-2cace5f8aa50"
      },
      "source": [
        "del model\n",
        "model = NeuralNet(tr_set.dataset.dim).to(device)\n",
        "ckpt = torch.load(config['save_path'], map_location='cpu')  # Load your best model\n",
        "model.load_state_dict(ckpt)\n",
        "plot_pred(dv_set, model, device)  # Show prediction on the validation set"
      ],
      "execution_count": 181,
      "outputs": [
        {
          "output_type": "display_data",
          "data": {
            "image/png": "[encoded data removed]",
            "text/plain": [
              "<Figure size 360x360 with 1 Axes>"
            ]
          },
          "metadata": {
            "needs_background": "light"
          }
        }
      ]
    },
    {
      "cell_type": "markdown",
      "metadata": {
        "id": "aQikz3IPiyPf"
      },
      "source": [
        "# **Testing**\n",
        "The predictions of your model on testing set will be stored at `pred.csv`."
      ]
    },
    {
      "cell_type": "code",
      "metadata": {
        "colab": {
          "base_uri": "https://localhost:8080/"
        },
        "id": "O8cTuQjQQOon",
        "outputId": "ce5af8ea-39f9-4176-8d49-b3b14880327f"
      },
      "source": [
        "def save_pred(preds, file):\n",
        "    ''' Save predictions to specified file '''\n",
        "    print('Saving results to {}'.format(file))\n",
        "    with open(file, 'w') as fp:\n",
        "        writer = csv.writer(fp)\n",
        "        writer.writerow(['id', 'tested_positive'])\n",
        "        for i, p in enumerate(preds):\n",
        "            writer.writerow([i, p])\n",
        "\n",
        "preds = test(tt_set, model, device)  # predict COVID-19 cases with your model\n",
        "save_pred(preds, 'pred.csv')         # save prediction file to pred.csv"
      ],
      "execution_count": 182,
      "outputs": [
        {
          "output_type": "stream",
          "name": "stdout",
          "text": [
            "Saving results to pred.csv\n"
          ]
        }
      ]
    },
    {
      "cell_type": "markdown",
      "metadata": {
        "id": "nfrVxqJanGpE"
      },
      "source": [
        "# **Hints**\n",
        "\n",
        "## **Simple Baseline**\n",
        "* Run sample code\n",
        "\n",
        "## **Medium Baseline**\n",
        "* Feature selection: 40 states + 2 `tested_positive` (`TODO` in dataset)\n",
        "\n",
        "## **Strong Baseline**\n",
        "* Feature selection (what other features are useful?)\n",
        "* DNN architecture (layers? dimension? activation function?)\n",
        "* Training (mini-batch? optimizer? learning rate?)\n",
        "* L2 regularization\n",
        "* There are some mistakes in the sample code, can you find them?"
      ]
    },
    {
      "cell_type": "markdown",
      "metadata": {
        "id": "9tmCwXgpot3t"
      },
      "source": [
        "# **Reference**\n",
        "This code is completely written by Heng-Jui Chang @ NTUEE.  \n",
        "Copying or reusing this code is required to specify the original author. \n",
        "\n",
        "E.g.  \n",
        "Source: Heng-Jui Chang @ NTUEE (https://github.com/ga642381/ML2021-Spring/blob/main/HW01/HW01.ipynb)\n"
      ]
    }
  ]
}