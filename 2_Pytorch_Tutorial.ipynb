{
  "nbformat": 4,
  "nbformat_minor": 0,
  "metadata": {
    "colab": {
      "name": "2.Pytorch Tutorial",
      "provenance": [],
      "collapsed_sections": [],
      "include_colab_link": true
    },
    "kernelspec": {
      "name": "python3",
      "display_name": "Python 3"
    },
    "accelerator": "GPU"
  },
  "cells": [
    {
      "cell_type": "markdown",
      "metadata": {
        "id": "view-in-github",
        "colab_type": "text"
      },
      "source": [
        "<a href=\"https://colab.research.google.com/github/DarrenHsien/ML2021/blob/main/2_Pytorch_Tutorial.ipynb\" target=\"_parent\"><img src=\"https://colab.research.google.com/assets/colab-badge.svg\" alt=\"Open In Colab\"/></a>"
      ]
    },
    {
      "cell_type": "markdown",
      "metadata": {
        "id": "tHILOGjOQbsQ"
      },
      "source": [
        "# **Pytorch Tutorial**\n"
      ]
    },
    {
      "cell_type": "code",
      "metadata": {
        "id": "C1zA7GupxdJv"
      },
      "source": [
        "import torch"
      ],
      "execution_count": 2,
      "outputs": []
    },
    {
      "cell_type": "markdown",
      "metadata": {
        "id": "6Eqj90EkWbWx"
      },
      "source": [
        "**1. Pytorch Documentation Explanation with torch basic function**\n",
        "\n"
      ]
    },
    {
      "cell_type": "code",
      "metadata": {
        "id": "JCXOg-iSQuk7",
        "colab": {
          "base_uri": "https://localhost:8080/"
        },
        "outputId": "ca20139e-80c9-4341-8499-45d808350583"
      },
      "source": [
        "# randn 隨機張量\n",
        "x = torch.randn(4,5) # row, col\n",
        "y = torch.randn(4,5)\n",
        "z = torch.randn(4,5)\n",
        "print(x)\n",
        "print(y)\n",
        "print(z)"
      ],
      "execution_count": 3,
      "outputs": [
        {
          "output_type": "stream",
          "name": "stdout",
          "text": [
            "tensor([[-0.6320, -0.7935,  0.0535, -0.1462, -1.5597],\n",
            "        [ 0.1527, -0.1494, -0.0465,  1.2658,  1.3374],\n",
            "        [ 0.8045, -0.2050, -1.2887, -2.3946,  0.8937],\n",
            "        [-1.1780,  1.1830, -0.8668, -0.0566, -0.1693]])\n",
            "tensor([[ 0.2449,  0.1273, -1.7816,  0.2638,  0.4155],\n",
            "        [-0.5817,  0.4840, -0.5576, -1.7366, -0.9740],\n",
            "        [-0.1635, -0.4571, -0.3984,  0.3856,  0.8864],\n",
            "        [-0.4042,  0.4908, -0.5008,  0.4353,  0.2001]])\n",
            "tensor([[-0.1010, -0.4662, -0.9895, -0.1360, -0.0314],\n",
            "        [ 1.0055, -0.1718, -0.2971, -0.7576, -0.4528],\n",
            "        [ 0.8602,  0.7506,  1.0831, -0.4601,  1.4362],\n",
            "        [ 0.8652,  0.3114, -0.7346,  0.4274,  0.1814]])\n"
          ]
        }
      ]
    },
    {
      "cell_type": "code",
      "source": [
        "# list轉張量\n",
        "a = torch.tensor(([1,1], [2,3]))\n",
        "a[0]\n",
        "m, idx = torch.max(a,dim=0)\n",
        "print(m)\n",
        "print(idx)\n",
        "m, idx = torch.max(a,dim=1)\n",
        "print(m)\n",
        "print(idx)"
      ],
      "metadata": {
        "colab": {
          "base_uri": "https://localhost:8080/"
        },
        "id": "uQuVB0_7z-AF",
        "outputId": "2ed9c89b-43f8-41ff-b6d4-65474692bc55"
      },
      "execution_count": 4,
      "outputs": [
        {
          "output_type": "stream",
          "name": "stdout",
          "text": [
            "tensor([2, 3])\n",
            "tensor([1, 1])\n",
            "tensor([1, 3])\n",
            "tensor([0, 1])\n"
          ]
        }
      ]
    },
    {
      "cell_type": "code",
      "source": [
        "# zeros\n",
        "torch.zeros([2,3])"
      ],
      "metadata": {
        "colab": {
          "base_uri": "https://localhost:8080/"
        },
        "id": "Ln24mD9u0qUc",
        "outputId": "b25363ba-5611-47e1-8a95-7a040fdcbd0c"
      },
      "execution_count": 5,
      "outputs": [
        {
          "output_type": "execute_result",
          "data": {
            "text/plain": [
              "tensor([[0., 0., 0.],\n",
              "        [0., 0., 0.]])"
            ]
          },
          "metadata": {},
          "execution_count": 5
        }
      ]
    },
    {
      "cell_type": "code",
      "source": [
        "# ones\n",
        "torch.ones([1,2,5])"
      ],
      "metadata": {
        "colab": {
          "base_uri": "https://localhost:8080/"
        },
        "id": "xf7QOEtf0wDl",
        "outputId": "c972e347-8b01-4df3-d266-49143e4e4af9"
      },
      "execution_count": 6,
      "outputs": [
        {
          "output_type": "execute_result",
          "data": {
            "text/plain": [
              "tensor([[[1., 1., 1., 1., 1.],\n",
              "         [1., 1., 1., 1., 1.]]])"
            ]
          },
          "metadata": {},
          "execution_count": 6
        }
      ]
    },
    {
      "cell_type": "code",
      "source": [
        "# Squeeze : 排除指定維度當該維度向量數目為1\n",
        "a = torch.zeros([1,2,3])\n",
        "a.shape\n",
        "a = a.squeeze(0)\n",
        "print(a.shape)\n",
        "print(a)\n",
        "\n",
        "a = torch.zeros([2,2,3])\n",
        "print(a.shape)\n",
        "a = a.squeeze(0)\n",
        "print(a.shape)\n",
        "print(a)"
      ],
      "metadata": {
        "colab": {
          "base_uri": "https://localhost:8080/"
        },
        "id": "iglGH7tj0_o1",
        "outputId": "601b8fda-398f-43f2-ae8b-9c19e4cbec4d"
      },
      "execution_count": 7,
      "outputs": [
        {
          "output_type": "stream",
          "name": "stdout",
          "text": [
            "torch.Size([2, 3])\n",
            "tensor([[0., 0., 0.],\n",
            "        [0., 0., 0.]])\n",
            "torch.Size([2, 2, 3])\n",
            "torch.Size([2, 2, 3])\n",
            "tensor([[[0., 0., 0.],\n",
            "         [0., 0., 0.]],\n",
            "\n",
            "        [[0., 0., 0.],\n",
            "         [0., 0., 0.]]])\n"
          ]
        }
      ]
    },
    {
      "cell_type": "code",
      "source": [
        "# Unsqueeze : 擴增一個新的維度向量數目為1\n",
        "a = torch.zeros([2,3])\n",
        "a.shape\n",
        "a = a.unsqueeze(1)\n",
        "print(a.shape)\n",
        "print(a)"
      ],
      "metadata": {
        "colab": {
          "base_uri": "https://localhost:8080/"
        },
        "id": "KM7RRwGF16bQ",
        "outputId": "2336da3f-d4c9-4da8-d134-c779c7c29f30"
      },
      "execution_count": 8,
      "outputs": [
        {
          "output_type": "stream",
          "name": "stdout",
          "text": [
            "torch.Size([2, 1, 3])\n",
            "tensor([[[0., 0., 0.]],\n",
            "\n",
            "        [[0., 0., 0.]]])\n"
          ]
        }
      ]
    },
    {
      "cell_type": "code",
      "source": [
        "# transpose : 指定兩維度對調\n",
        "a = torch.tensor(([1,1], [2,3]))\n",
        "print(a)\n",
        "a = a.transpose(0,1)\n",
        "print(a)"
      ],
      "metadata": {
        "colab": {
          "base_uri": "https://localhost:8080/"
        },
        "id": "tDBdCSmh2b8h",
        "outputId": "4c7d7193-0e66-4ce9-ced3-897944c514ca"
      },
      "execution_count": 9,
      "outputs": [
        {
          "output_type": "stream",
          "name": "stdout",
          "text": [
            "tensor([[1, 1],\n",
            "        [2, 3]])\n",
            "tensor([[1, 2],\n",
            "        [1, 3]])\n"
          ]
        }
      ]
    },
    {
      "cell_type": "code",
      "source": [
        "# cat : 在多個張量都為N維，其中N-1維張量大小都相同時，可合併指定唯一不同維度\n",
        "a = torch.zeros([2,1,3])\n",
        "b = torch.zeros([2,2,3])\n",
        "c = torch.zeros([2,5,3])\n",
        "# torch.cat([a, b, c], dim=2) # 會報錯\n",
        "torch.cat([a, b, c], dim=1).shape"
      ],
      "metadata": {
        "colab": {
          "base_uri": "https://localhost:8080/"
        },
        "id": "X7c7U67v5UVw",
        "outputId": "312070cb-abe9-4dea-b5b4-33dbff9836ec"
      },
      "execution_count": 10,
      "outputs": [
        {
          "output_type": "execute_result",
          "data": {
            "text/plain": [
              "torch.Size([2, 8, 3])"
            ]
          },
          "metadata": {},
          "execution_count": 10
        }
      ]
    },
    {
      "cell_type": "code",
      "source": [
        "# Addition\n",
        "a = torch.tensor(([1,1], [1,1]))\n",
        "b = torch.tensor(([1,2], [3,4]))\n",
        "print(a+b)\n",
        "# Subtraction\n",
        "print(a-b)\n",
        "# Power\n",
        "print(a.pow(2))\n",
        "# Summation\n",
        "print(a.sum())\n",
        "# Mean\n",
        "a = a.type(torch.DoubleTensor)\n",
        "print(a.dtype)\n",
        "print(a.mean())"
      ],
      "metadata": {
        "colab": {
          "base_uri": "https://localhost:8080/"
        },
        "id": "3AVqzh566p47",
        "outputId": "3b71f35a-593d-48f0-9bb0-36c0a7e4ba88"
      },
      "execution_count": 11,
      "outputs": [
        {
          "output_type": "stream",
          "name": "stdout",
          "text": [
            "tensor([[2, 3],\n",
            "        [4, 5]])\n",
            "tensor([[ 0, -1],\n",
            "        [-2, -3]])\n",
            "tensor([[1, 1],\n",
            "        [1, 1]])\n",
            "tensor(4)\n",
            "torch.float64\n",
            "tensor(1., dtype=torch.float64)\n"
          ]
        }
      ]
    },
    {
      "cell_type": "code",
      "source": [
        "# item 將張量轉為純量\n",
        "\n",
        "a = torch.tensor([2])\n",
        "print(a)\n",
        "print(a.item())"
      ],
      "metadata": {
        "colab": {
          "base_uri": "https://localhost:8080/"
        },
        "id": "HTveKRr-Xt1V",
        "outputId": "d031c9d3-bc4a-4a80-ecf0-a97f713d5b98"
      },
      "execution_count": 46,
      "outputs": [
        {
          "output_type": "stream",
          "name": "stdout",
          "text": [
            "tensor([2])\n",
            "2\n"
          ]
        }
      ]
    },
    {
      "cell_type": "code",
      "source": [
        "# check gpu exist\n",
        "print(torch.cuda.is_available())\n",
        "# Tensor to CPU or GPU\n",
        "a = torch.tensor(([1,1], [1,1]))\n",
        "b = torch.tensor(([1,1], [1,1]))\n",
        "print(a.to('cuda'))\n",
        "print(b.to('cpu'))"
      ],
      "metadata": {
        "colab": {
          "base_uri": "https://localhost:8080/"
        },
        "id": "dN2YukCJ9NGI",
        "outputId": "81508eca-662b-49d1-9eb4-1c3fc7efed6c"
      },
      "execution_count": 12,
      "outputs": [
        {
          "output_type": "stream",
          "name": "stdout",
          "text": [
            "True\n",
            "tensor([[1, 1],\n",
            "        [1, 1]], device='cuda:0')\n",
            "tensor([[1, 1],\n",
            "        [1, 1]])\n"
          ]
        }
      ]
    },
    {
      "cell_type": "code",
      "metadata": {
        "id": "EEqa9GFoWF78",
        "colab": {
          "base_uri": "https://localhost:8080/"
        },
        "outputId": "f76ec2a1-65f3-41e9-dbda-303607c0902d"
      },
      "source": [
        " # 1. max of entire tensor (torch.max(input) → Tensor)\n",
        "m = torch.max(x)\n",
        "print(m)"
      ],
      "execution_count": 13,
      "outputs": [
        {
          "output_type": "stream",
          "name": "stdout",
          "text": [
            "tensor(1.3374)\n"
          ]
        }
      ]
    },
    {
      "cell_type": "code",
      "metadata": {
        "id": "wffThGDyWKxJ",
        "colab": {
          "base_uri": "https://localhost:8080/"
        },
        "outputId": "6872089c-d00f-4492-8d38-cfd4550194b7"
      },
      "source": [
        "# 2. max along a dimension (torch.max(input, dim, keepdim=False, *, out=None) → (Tensor, LongTensor))\n",
        "m, idx = torch.max(x,0) # 以第0 dim進行計算最大值\n",
        "print(m)\n",
        "print(idx)"
      ],
      "execution_count": 14,
      "outputs": [
        {
          "output_type": "stream",
          "name": "stdout",
          "text": [
            "tensor([0.8045, 1.1830, 0.0535, 1.2658, 1.3374])\n",
            "tensor([2, 3, 0, 1, 1])\n"
          ]
        }
      ]
    },
    {
      "cell_type": "code",
      "metadata": {
        "id": "oKDQW3tIXKg-",
        "colab": {
          "base_uri": "https://localhost:8080/"
        },
        "outputId": "2a2b8709-0a7d-4693-d32d-7af2cba3fc19"
      },
      "source": [
        "# 2-2\n",
        "m, idx = torch.max(input=x,dim=0)\n",
        "print(m)\n",
        "print(idx)"
      ],
      "execution_count": 15,
      "outputs": [
        {
          "output_type": "stream",
          "name": "stdout",
          "text": [
            "tensor([0.8045, 1.1830, 0.0535, 1.2658, 1.3374])\n",
            "tensor([2, 3, 0, 1, 1])\n"
          ]
        }
      ]
    },
    {
      "cell_type": "code",
      "metadata": {
        "id": "6QZ6WRLyX3De",
        "colab": {
          "base_uri": "https://localhost:8080/"
        },
        "outputId": "f16e30eb-41a1-49c9-eff2-c145ade0ac1e"
      },
      "source": [
        "# 2-3\n",
        "m, idx = torch.max(x,0,False)\n",
        "print(m)\n",
        "print(idx)\n",
        "print(m.size())"
      ],
      "execution_count": 42,
      "outputs": [
        {
          "output_type": "stream",
          "name": "stdout",
          "text": [
            "tensor([1., 1.], grad_fn=<MaxBackward0>)\n",
            "tensor([0, 1])\n",
            "torch.Size([2])\n"
          ]
        }
      ]
    },
    {
      "cell_type": "code",
      "metadata": {
        "id": "nqGuctkKbUEn",
        "colab": {
          "base_uri": "https://localhost:8080/"
        },
        "outputId": "3b64756a-c5b1-4f68-8189-0d4765b24012"
      },
      "source": [
        "# 2-4\n",
        "m, idx = torch.max(x,dim=0,keepdim=True) # keepdim 維持原本矩陣維度\n",
        "print(m)\n",
        "print(idx)\n",
        "print(m.size())"
      ],
      "execution_count": 17,
      "outputs": [
        {
          "output_type": "stream",
          "name": "stdout",
          "text": [
            "tensor([[0.8045, 1.1830, 0.0535, 1.2658, 1.3374]])\n",
            "tensor([[2, 3, 0, 1, 1]])\n",
            "torch.Size([1, 5])\n"
          ]
        }
      ]
    },
    {
      "cell_type": "code",
      "metadata": {
        "id": "9OMzxuMlZPIu",
        "colab": {
          "base_uri": "https://localhost:8080/"
        },
        "outputId": "9f3eefb8-9b29-4b3d-9c77-3480d26f61ee"
      },
      "source": [
        "# 2-5\n",
        "p = (m,idx)\n",
        "torch.max(x,0,False,out=p)\n",
        "print(p[0])\n",
        "print(p[1])\n"
      ],
      "execution_count": 18,
      "outputs": [
        {
          "output_type": "stream",
          "name": "stdout",
          "text": [
            "tensor([0.8045, 1.1830, 0.0535, 1.2658, 1.3374])\n",
            "tensor([2, 3, 0, 1, 1])\n"
          ]
        },
        {
          "output_type": "stream",
          "name": "stderr",
          "text": [
            "/usr/local/lib/python3.7/dist-packages/ipykernel_launcher.py:3: UserWarning: An output with one or more elements was resized since it had shape [1, 1, 5], which does not match the required output shape [1, 5].This behavior is deprecated, and in a future PyTorch release outputs will not be resized unless they have zero elements. You can explicitly reuse an out tensor t by resizing it, inplace, to zero elements with t.resize_(0). (Triggered internally at  ../aten/src/ATen/native/Resize.cpp:23.)\n",
            "  This is separate from the ipykernel package so we can avoid doing imports until\n"
          ]
        }
      ]
    },
    {
      "cell_type": "code",
      "source": [
        "# How to caculate gradient\n",
        "\"\"\"\n",
        "x = [[1,0], [-1,1]]\n",
        "f(x) = SUMiSUMJ X^2\n",
        "partial f(x) with x = 2XiXj\n",
        "partial f(x) with x = [[2,0], [-2,2]]\n",
        "\"\"\"\n",
        "\n",
        "# x = torch.tensor([[1,0],[-1,1]], requires_grad=True) 導入gradien計算需為浮點型態\n",
        "x = torch.tensor([[1.,0.],[-1.,1.]], requires_grad=True)\n",
        "f = x.pow(2).sum()\n",
        "print(f)\n",
        "f.backward()\n",
        "print(x.grad)\n"
      ],
      "metadata": {
        "colab": {
          "base_uri": "https://localhost:8080/"
        },
        "id": "XBn3MkZN-MLA",
        "outputId": "3608edfe-8778-4a5d-fd41-91073cbeff0e"
      },
      "execution_count": 19,
      "outputs": [
        {
          "output_type": "stream",
          "name": "stdout",
          "text": [
            "tensor(3., grad_fn=<SumBackward0>)\n",
            "tensor([[ 2.,  0.],\n",
            "        [-2.,  2.]])\n"
          ]
        }
      ]
    },
    {
      "cell_type": "markdown",
      "source": [
        "**2.Dataset & Dataloader**"
      ],
      "metadata": {
        "id": "VAtEmSV0CW6D"
      }
    },
    {
      "cell_type": "code",
      "source": [
        "from torch.utils.data import Dataset, DataLoader\n",
        "\n",
        "class MyDataset(Dataset):\n",
        "  # Read data & preprecess\n",
        "  def __init__(self, file):\n",
        "    # self.data = read\n",
        "    pass\n",
        "  # Return one sample at a time\n",
        "  def __getitem__(self, index):\n",
        "    return self.data[index]\n",
        "  # Return the size of the size\n",
        "  def __len__(self):\n",
        "    return len(self.data)\n",
        "\n",
        "dataset = MyDataset(file)\n",
        "\n",
        "# set dataset into dataloader\n",
        "# dataloader will use __getitem__ function to get batch of data\n",
        "dataloader = Dataloader(dataset, batch_size, shuffle=True)\n"
      ],
      "metadata": {
        "id": "Oh8U1EfKCePa"
      },
      "execution_count": null,
      "outputs": []
    },
    {
      "cell_type": "markdown",
      "source": [
        "**3.torch.nn**"
      ],
      "metadata": {
        "id": "FrYG7IA9I2OI"
      }
    },
    {
      "cell_type": "code",
      "source": [
        "# Linear Layer(Fully-connected Layer)\n",
        "\"\"\"\n",
        "input X1-32 => W32X64 * X + b = Y\n",
        "\"\"\"\n",
        "W = torch.nn.Linear(32,64)\n",
        "print(W.weight.shape)\n",
        "print(W.bias.shape)"
      ],
      "metadata": {
        "colab": {
          "base_uri": "https://localhost:8080/"
        },
        "id": "pVIlIdeLI1yo",
        "outputId": "15635305-cf8a-4d0e-dc3c-58331c38b78b"
      },
      "execution_count": 26,
      "outputs": [
        {
          "output_type": "stream",
          "name": "stdout",
          "text": [
            "torch.Size([64, 32])\n",
            "torch.Size([64])\n"
          ]
        }
      ]
    },
    {
      "cell_type": "code",
      "source": [
        "# Activation Function\n",
        "torch.nn.Sigmoid()\n",
        "torch.nn.ReLU(W)"
      ],
      "metadata": {
        "colab": {
          "base_uri": "https://localhost:8080/"
        },
        "id": "jZuRNP-NLsBv",
        "outputId": "4ef7f0f3-fa86-4f47-c6d2-fe0007bc4a87"
      },
      "execution_count": 36,
      "outputs": [
        {
          "output_type": "execute_result",
          "data": {
            "text/plain": [
              "ReLU(\n",
              "  inplace=True\n",
              "  (inplace): Linear(in_features=32, out_features=64, bias=True)\n",
              ")"
            ]
          },
          "metadata": {},
          "execution_count": 36
        }
      ]
    },
    {
      "cell_type": "code",
      "source": [
        "# Loss Functions\n",
        "# MSE\n",
        "torch.nn.MSELoss()\n",
        "# Cross Entropy\n",
        "torch.nn.CrossEntropyLoss()"
      ],
      "metadata": {
        "colab": {
          "base_uri": "https://localhost:8080/"
        },
        "id": "IC4ABx2kM4K5",
        "outputId": "f1e6d5bd-9fc5-48c5-d5c1-75593921297d"
      },
      "execution_count": 37,
      "outputs": [
        {
          "output_type": "execute_result",
          "data": {
            "text/plain": [
              "CrossEntropyLoss()"
            ]
          },
          "metadata": {},
          "execution_count": 37
        }
      ]
    },
    {
      "cell_type": "code",
      "source": [
        "# Build own neural network\n",
        "import torch.nn as nn\n",
        "# nn.Module : 支援建模class\n",
        "# nn.Sequential : 串接網絡層 \n",
        "class MyModel(nn.Module):\n",
        "  # initialize model & define layers\n",
        "  def __init__(self):\n",
        "    super(MyModel, self).__init__()\n",
        "    self.net = nn.Sequential(\n",
        "        nn.Linear(10,32),\n",
        "        nn.Sigmoid(),\n",
        "        nn.Linear(32,1)\n",
        "    )\n",
        "  \n",
        "  # 計算資料進入model後的output\n",
        "  def forward(self, x):\n",
        "    return self.net(x)\n"
      ],
      "metadata": {
        "id": "ueDW20RANNfR"
      },
      "execution_count": 38,
      "outputs": []
    },
    {
      "cell_type": "code",
      "source": [
        "# Optimization => compute gradient descent\n",
        "# SGD(Stochastic Gradient Descent)\n",
        "# torch.optim.SGD(params<model.parameters()>, lr, momentum = 0)\n"
      ],
      "metadata": {
        "id": "relKCqA0P6Qk"
      },
      "execution_count": 39,
      "outputs": []
    },
    {
      "cell_type": "markdown",
      "source": [
        "**4. Model Training & Validatin & Testing Concept**"
      ],
      "metadata": {
        "id": "V5zCtyE6bL2s"
      }
    },
    {
      "cell_type": "code",
      "source": [
        "from torch.optim import optimizer\n",
        "# 1.Training tool preprocess\n",
        "\"\"\"\n",
        "dataset = MyDataset(file) # 導入訓練文件資料製作成dataset\n",
        "tr_set = DataLoader(dataset, batch_size=16, shuffle=True) # 建立dataset讀取器\n",
        "model = MyModel().to(device='gpu') # 將模型參數導入顯卡設備\n",
        "criterion = nn.MSELoss() # 製作用來計算預測與gt的LossFunction\n",
        "optimizer = torch.optim.SGD(model.parameters(), momentum=0.9, lr=0.1) # 用來訓練迭代中計算更新梯度的優化器\n",
        "\"\"\"\n",
        "\n",
        "# 2. Training run\n",
        "\"\"\"\n",
        "for epoch in range(n_epochs): # for loop 設定訓練步數\n",
        "  model.train() # 設定模型為train mode才可以更新內部參數\n",
        "  \n",
        "  for x, y in tr_set: # 每個epoch須完整訓練更新所有資料集\n",
        "    optimizer.zero_grad() # 清空上一次的gradient數值 & 展現Gradient accumulation\n",
        "    x, y = x.to(device), y.to(device) # 將資料導入顯卡設備\n",
        "    pred = model(x) # 導入資料計算預測結果 => foward probagation\n",
        "    loss = criterion(pred, y) # 計算pred與gt loss\n",
        "    loss.backward() # 計算grdient => backprobagation\n",
        "    optimizer.step() # 使用optimizer更新model.params\n",
        "\n",
        "\"\"\"\n",
        "\n",
        "# 3. Validation run\n",
        "\"\"\"\n",
        "model.eval() # 設定模型為eval mode才不會更新內部參數\n",
        "total_loss = 0\n",
        "for x, y in dv_det:\n",
        "  x, y = x.to(device), y.to(device) # 將資料導入顯卡設備\n",
        "  with torch.no_grad(): # 在驗證時，控制模型不需要track gradient\n",
        "    pred = model(x) # 導入資料計算預測結果 => foward probagation\n",
        "    loss = criterion(pred, y) # 計算pred與gt loss\n",
        "  total_loss += loss.cpu().item()*len(x) # 將loss轉回cpu處理並從張量轉為純量後乘以所有資料量等於這個batch的loss再加總\n",
        "  avg_loss = total_loss / len(dv_set.dataset)\n",
        "\"\"\"\n",
        "\n",
        "# 4. Testing run\n",
        "\"\"\"\n",
        "model.eval() # 設定模型為eval mode才不會更新內部參數\n",
        "preds = []\n",
        "for x in tt_det:\n",
        "  x = x.to(device) # 將資料導入顯卡設備\n",
        "  with torch.no_grad(): # 在驗證時，控制模型不需要track gradient\n",
        "    pred = model(x) # 導入資料計算預測結果 => foward probagation\n",
        "    preds.append(pred.cpu())\n",
        "\"\"\"\n",
        "\n",
        "# 5. Save Model\n",
        "\"\"\"\n",
        "torch.save(model.state_dict(), path)\n",
        "\"\"\"\n",
        "# 6. Load Model\n",
        "\"\"\"\n",
        "ckpt = torch.load(path)\n",
        "model.load_state_dict(ckpt)\n",
        "\"\"\"\n"
      ],
      "metadata": {
        "id": "U7ks53JvQmzL"
      },
      "execution_count": null,
      "outputs": []
    }
  ]
}